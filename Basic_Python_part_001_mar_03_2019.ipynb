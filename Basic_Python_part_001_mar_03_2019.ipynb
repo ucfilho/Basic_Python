{
  "nbformat": 4,
  "nbformat_minor": 0,
  "metadata": {
    "colab": {
      "name": "basic_test_mar_03_2019.ipynb",
      "version": "0.3.2",
      "provenance": [],
      "include_colab_link": true
    },
    "kernelspec": {
      "name": "python3",
      "display_name": "Python 3"
    }
  },
  "cells": [
    {
      "cell_type": "markdown",
      "metadata": {
        "id": "view-in-github",
        "colab_type": "text"
      },
      "source": [
        "<a href=\"https://colab.research.google.com/github/ucfilho/Basic_Python/blob/master/Basic_Python_part_001_mar_03_2019.ipynb\" target=\"_parent\"><img src=\"https://colab.research.google.com/assets/colab-badge.svg\" alt=\"Open In Colab\"/></a>"
      ]
    },
    {
      "metadata": {
        "id": "0EJjmuGKfliQ",
        "colab_type": "code",
        "outputId": "7d05d13f-0b3f-4563-8001-cce840b62ffc",
        "colab": {
          "base_uri": "https://localhost:8080/",
          "height": 35
        }
      },
      "cell_type": "code",
      "source": [
        "my_list = ['a','b','c']\n",
        "print(my_list)"
      ],
      "execution_count": 0,
      "outputs": [
        {
          "output_type": "stream",
          "text": [
            "['a', 'b', 'c']\n"
          ],
          "name": "stdout"
        }
      ]
    },
    {
      "metadata": {
        "id": "7LEh56M8jVQc",
        "colab_type": "code",
        "outputId": "7bc7dded-e331-4ed2-a7ab-4dacdf4f71be",
        "colab": {
          "base_uri": "https://localhost:8080/",
          "height": 35
        }
      },
      "cell_type": "code",
      "source": [
        "my_list.append('d')\n",
        "print(my_list)"
      ],
      "execution_count": 0,
      "outputs": [
        {
          "output_type": "stream",
          "text": [
            "['a', 'b', 'c', 'd']\n"
          ],
          "name": "stdout"
        }
      ]
    },
    {
      "metadata": {
        "id": "TMiqEzegjqML",
        "colab_type": "code",
        "outputId": "316b0e6a-90f1-4fb7-de6a-50f7e907f402",
        "colab": {
          "base_uri": "https://localhost:8080/",
          "height": 35
        }
      },
      "cell_type": "code",
      "source": [
        "print('First letter is: {}, and second letter is: {}'.format(my_list[0],my_list[1]))"
      ],
      "execution_count": 0,
      "outputs": [
        {
          "output_type": "stream",
          "text": [
            "First letter is: a, and second letter is: b\n"
          ],
          "name": "stdout"
        }
      ]
    },
    {
      "metadata": {
        "id": "JaQxI8dqkBcd",
        "colab_type": "code",
        "outputId": "3cd8a9db-42eb-4301-fc2a-a07502a0bc8d",
        "colab": {
          "base_uri": "https://localhost:8080/",
          "height": 35
        }
      },
      "cell_type": "code",
      "source": [
        "print(my_list[1:])"
      ],
      "execution_count": 0,
      "outputs": [
        {
          "output_type": "stream",
          "text": [
            "['b', 'c', 'd']\n"
          ],
          "name": "stdout"
        }
      ]
    },
    {
      "metadata": {
        "id": "UB5yHAfAkGND",
        "colab_type": "code",
        "outputId": "06e4ca44-acb7-4d79-8ce8-b57c04b18de5",
        "colab": {
          "base_uri": "https://localhost:8080/",
          "height": 35
        }
      },
      "cell_type": "code",
      "source": [
        "print(my_list[:1])"
      ],
      "execution_count": 0,
      "outputs": [
        {
          "output_type": "stream",
          "text": [
            "['a']\n"
          ],
          "name": "stdout"
        }
      ]
    },
    {
      "metadata": {
        "id": "zcEVLCV9kf7-",
        "colab_type": "code",
        "outputId": "a40f4156-325f-4463-e6e3-36e120b663a9",
        "colab": {
          "base_uri": "https://localhost:8080/",
          "height": 90
        }
      },
      "cell_type": "code",
      "source": [
        "i = 1\n",
        "while i < 5:\n",
        "    print('i is: {}'.format(i))\n",
        "    i = i+1"
      ],
      "execution_count": 0,
      "outputs": [
        {
          "output_type": "stream",
          "text": [
            "i is: 1\n",
            "i is: 2\n",
            "i is: 3\n",
            "i is: 4\n"
          ],
          "name": "stdout"
        }
      ]
    },
    {
      "metadata": {
        "id": "1KKf32s0kqZP",
        "colab_type": "code",
        "outputId": "a2ba8589-1f54-4ef2-b523-979e170fc62d",
        "colab": {
          "base_uri": "https://localhost:8080/",
          "height": 35
        }
      },
      "cell_type": "code",
      "source": [
        "x=[1,2,3,4,5]\n",
        "out = []\n",
        "for item in x:\n",
        "    out.append(item**2)\n",
        "print(out)"
      ],
      "execution_count": 0,
      "outputs": [
        {
          "output_type": "stream",
          "text": [
            "[1, 4, 9, 16, 25]\n"
          ],
          "name": "stdout"
        }
      ]
    },
    {
      "metadata": {
        "id": "eR1zQM8-lASR",
        "colab_type": "code",
        "outputId": "2428c761-23be-4649-8e2a-024ab1854ebd",
        "colab": {
          "base_uri": "https://localhost:8080/",
          "height": 35
        }
      },
      "cell_type": "code",
      "source": [
        "def times2(var):\n",
        "    return var*2\n",
        "test=[]\n",
        "x=[1,2,3,4,5]\n",
        "test=list(map(times2,x))\n",
        "print(test)\n"
      ],
      "execution_count": 0,
      "outputs": [
        {
          "output_type": "stream",
          "text": [
            "[2, 4, 6, 8, 10]\n"
          ],
          "name": "stdout"
        }
      ]
    },
    {
      "metadata": {
        "id": "sU6ZEntglhyp",
        "colab_type": "code",
        "outputId": "89e0218d-9048-402b-d300-11070b7fd469",
        "colab": {
          "base_uri": "https://localhost:8080/",
          "height": 35
        }
      },
      "cell_type": "code",
      "source": [
        "y=[]\n",
        "y=list(map(lambda var: var*2,x))\n",
        "print(y)"
      ],
      "execution_count": 0,
      "outputs": [
        {
          "output_type": "stream",
          "text": [
            "[2, 4, 6, 8, 10]\n"
          ],
          "name": "stdout"
        }
      ]
    },
    {
      "metadata": {
        "id": "j7D0PddomXPI",
        "colab_type": "code",
        "outputId": "4a459376-0333-4d1b-b4e9-15c72852d9e0",
        "colab": {
          "base_uri": "https://localhost:8080/",
          "height": 35
        }
      },
      "cell_type": "code",
      "source": [
        "st = 'hello my name is James Bond'\n",
        "st_new=st.lower()\n",
        "print(st_new)"
      ],
      "execution_count": 0,
      "outputs": [
        {
          "output_type": "stream",
          "text": [
            "hello my name is james bond\n"
          ],
          "name": "stdout"
        }
      ]
    },
    {
      "metadata": {
        "id": "HKBwgjEPnE90",
        "colab_type": "code",
        "outputId": "3fba6003-420c-49fe-ad47-fc9477f95b83",
        "colab": {
          "base_uri": "https://localhost:8080/",
          "height": 35
        }
      },
      "cell_type": "code",
      "source": [
        "st_UP=st.upper()\n",
        "print(st_UP)"
      ],
      "execution_count": 0,
      "outputs": [
        {
          "output_type": "stream",
          "text": [
            "HELLO MY NAME IS JAMES BOND\n"
          ],
          "name": "stdout"
        }
      ]
    },
    {
      "metadata": {
        "id": "heCcf8mknWUS",
        "colab_type": "code",
        "outputId": "bad4677e-8e1c-46f2-8ee9-638025be70e7",
        "colab": {
          "base_uri": "https://localhost:8080/",
          "height": 35
        }
      },
      "cell_type": "code",
      "source": [
        "st_Split=st.split()\n",
        "print(st_Split)"
      ],
      "execution_count": 0,
      "outputs": [
        {
          "output_type": "stream",
          "text": [
            "['hello', 'my', 'name', 'is', 'James', 'Bond']\n"
          ],
          "name": "stdout"
        }
      ]
    },
    {
      "metadata": {
        "id": "bCZxWDKRnwtr",
        "colab_type": "code",
        "outputId": "3de81543-88d4-4330-c959-3382ecfd45dd",
        "colab": {
          "base_uri": "https://localhost:8080/",
          "height": 54
        }
      },
      "cell_type": "code",
      "source": [
        "email='ucfilho@gmail.com'\n",
        "email_Split_1=email.split()\n",
        "print(email_Split_1)\n",
        "email_Split_2=email.split('@')\n",
        "print(email_Split_2)\n"
      ],
      "execution_count": 0,
      "outputs": [
        {
          "output_type": "stream",
          "text": [
            "['ucfilho@gmail.com']\n",
            "['ucfilho', 'gmail.com']\n"
          ],
          "name": "stdout"
        }
      ]
    },
    {
      "metadata": {
        "id": "TPlSNwzDoqcq",
        "colab_type": "code",
        "outputId": "0c0e2a74-ca59-41ff-e8b2-9324ed17c26f",
        "colab": {
          "base_uri": "https://localhost:8080/",
          "height": 35
        }
      },
      "cell_type": "code",
      "source": [
        "def domainGet(email):\n",
        "    return email.split('@')[-1]\n",
        "email='ucfilho@gmail.com'\n",
        "domain=domainGet(email)\n",
        "print(domain)"
      ],
      "execution_count": 0,
      "outputs": [
        {
          "output_type": "stream",
          "text": [
            "gmail.com\n"
          ],
          "name": "stdout"
        }
      ]
    },
    {
      "metadata": {
        "id": "SCKMFaGwpQLG",
        "colab_type": "code",
        "outputId": "1e111f87-8f2d-4663-c7d8-25200cf45ccd",
        "colab": {
          "base_uri": "https://localhost:8080/",
          "height": 74
        }
      },
      "cell_type": "code",
      "source": [
        "def countDog(st):\n",
        "    count = 0\n",
        "    for word in st.lower().split():\n",
        "      if word == 'dog':\n",
        "        count += 1\n",
        "      if word == 'dogs':\n",
        "        count += 1\n",
        "    return count\n",
        "  \n",
        "text=\"You've probably been asked at some point in your life if you're a dog person or a cat person. Some people love both animals.\"\n",
        "text=text+\" But if you had to live with only The, which would you choose? \"\n",
        "text=text+ \"There's been an ongoing debate between dog people and cat people for decades, maybe even centuries. Now it's time to face off just for fun.\"\n",
        "text=text+\" Let's explore some reasons why dogs may be better than cats.\"\n",
        "text=text+ \"Not to worry, cat lovers! There are also a lot of reasons why cats can be better than dogs. \"\n",
        "\n",
        "Num=countDog(text)\n",
        "print(Num)\n",
        "print(text.split())\n",
        "# note que nao conta quatro dogs pq o ultimo sai como 'dogs.' (com um ponto no fim da palavra)"
      ],
      "execution_count": 0,
      "outputs": [
        {
          "output_type": "stream",
          "text": [
            "3\n",
            "[\"You've\", 'probably', 'been', 'asked', 'at', 'some', 'point', 'in', 'your', 'life', 'if', \"you're\", 'a', 'dog', 'person', 'or', 'a', 'cat', 'person.', 'Some', 'people', 'love', 'both', 'animals.', 'But', 'if', 'you', 'had', 'to', 'live', 'with', 'only', 'The,', 'which', 'would', 'you', 'choose?', \"There's\", 'been', 'an', 'ongoing', 'debate', 'between', 'dog', 'people', 'and', 'cat', 'people', 'for', 'decades,', 'maybe', 'even', 'centuries.', 'Now', \"it's\", 'time', 'to', 'face', 'off', 'just', 'for', 'fun.', \"Let's\", 'explore', 'some', 'reasons', 'why', 'dogs', 'may', 'be', 'better', 'than', 'cats.Not', 'to', 'worry,', 'cat', 'lovers!', 'There', 'are', 'also', 'a', 'lot', 'of', 'reasons', 'why', 'cats', 'can', 'be', 'better', 'than', 'dogs.']\n"
          ],
          "name": "stdout"
        }
      ]
    }
  ]
}