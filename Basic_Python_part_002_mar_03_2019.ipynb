{
  "nbformat": 4,
  "nbformat_minor": 0,
  "metadata": {
    "colab": {
      "name": "Basic_Python_part_002_mar_03_2019.ipynb",
      "version": "0.3.2",
      "provenance": [],
      "include_colab_link": true
    },
    "kernelspec": {
      "name": "python3",
      "display_name": "Python 3"
    }
  },
  "cells": [
    {
      "cell_type": "markdown",
      "metadata": {
        "id": "view-in-github",
        "colab_type": "text"
      },
      "source": [
        "<a href=\"https://colab.research.google.com/github/ucfilho/Basic_Python/blob/master/Basic_Python_part_002_mar_03_2019.ipynb\" target=\"_parent\"><img src=\"https://colab.research.google.com/assets/colab-badge.svg\" alt=\"Open In Colab\"/></a>"
      ]
    },
    {
      "metadata": {
        "id": "dUOvGe8c70Vb",
        "colab_type": "text"
      },
      "cell_type": "markdown",
      "source": [
        "Numpy commands"
      ]
    },
    {
      "metadata": {
        "id": "7LEh56M8jVQc",
        "colab_type": "code",
        "colab": {}
      },
      "cell_type": "code",
      "source": [
        "import numpy as np"
      ],
      "execution_count": 0,
      "outputs": []
    },
    {
      "metadata": {
        "id": "JaQxI8dqkBcd",
        "colab_type": "code",
        "outputId": "e6d23023-060f-41c6-87e7-6567b11bc6e6",
        "colab": {
          "base_uri": "https://localhost:8080/",
          "height": 54
        }
      },
      "cell_type": "code",
      "source": [
        "x=np.random.rand()\n",
        "print(x)\n",
        "y=np.random.rand(2)\n",
        "print(y)"
      ],
      "execution_count": 2,
      "outputs": [
        {
          "output_type": "stream",
          "text": [
            "0.2595427701797295\n",
            "[0.5898414  0.28187229]\n"
          ],
          "name": "stdout"
        }
      ]
    },
    {
      "metadata": {
        "id": "UB5yHAfAkGND",
        "colab_type": "code",
        "outputId": "e146d744-89dc-4e72-c181-19c09aa08e05",
        "colab": {
          "base_uri": "https://localhost:8080/",
          "height": 108
        }
      },
      "cell_type": "code",
      "source": [
        "A=np.random.rand(5,6)\n",
        "print(A)"
      ],
      "execution_count": 3,
      "outputs": [
        {
          "output_type": "stream",
          "text": [
            "[[0.52649649 0.3520605  0.10409862 0.86716864 0.25094482 0.90422051]\n",
            " [0.96410274 0.20151709 0.52472178 0.81900949 0.06429826 0.97524312]\n",
            " [0.69006957 0.91891106 0.49098123 0.16529726 0.48853664 0.6657887 ]\n",
            " [0.218993   0.04317388 0.58733177 0.73623366 0.81470172 0.05683098]\n",
            " [0.331629   0.60890975 0.95228498 0.36932177 0.99594181 0.61156476]]\n"
          ],
          "name": "stdout"
        }
      ]
    },
    {
      "metadata": {
        "id": "zcEVLCV9kf7-",
        "colab_type": "code",
        "outputId": "ccef0806-e22a-4e70-e54f-9755018fa3f3",
        "colab": {
          "base_uri": "https://localhost:8080/",
          "height": 35
        }
      },
      "cell_type": "code",
      "source": [
        "cols=A.shape[0]\n",
        "rows=A.shape[1]\n",
        "print(\"Number of lines: {} and columns: {}\".format(rows,cols))"
      ],
      "execution_count": 4,
      "outputs": [
        {
          "output_type": "stream",
          "text": [
            "Number of lines: 6 and columns: 5\n"
          ],
          "name": "stdout"
        }
      ]
    },
    {
      "metadata": {
        "id": "1KKf32s0kqZP",
        "colab_type": "code",
        "outputId": "09809068-2aec-46d5-ef5e-ea5f42cd6928",
        "colab": {
          "base_uri": "https://localhost:8080/",
          "height": 35
        }
      },
      "cell_type": "code",
      "source": [
        "x=np.linspace(0,10,5)\n",
        "print(x)"
      ],
      "execution_count": 5,
      "outputs": [
        {
          "output_type": "stream",
          "text": [
            "[ 0.   2.5  5.   7.5 10. ]\n"
          ],
          "name": "stdout"
        }
      ]
    },
    {
      "metadata": {
        "id": "ykslv7Jb-QXa",
        "colab_type": "code",
        "outputId": "c5ff9eaf-113f-4772-ef09-f75bc441bdb7",
        "colab": {
          "base_uri": "https://localhost:8080/",
          "height": 126
        }
      },
      "cell_type": "code",
      "source": [
        "B=np.random.randn(6,5)\n",
        "print(B)"
      ],
      "execution_count": 6,
      "outputs": [
        {
          "output_type": "stream",
          "text": [
            "[[-1.23611986 -0.12671752 -0.91993528  0.16668345  0.57672137]\n",
            " [ 1.62209004  1.02459583  0.33566351 -1.00694137 -0.29557625]\n",
            " [ 0.22431765 -0.5657904  -0.35732958 -0.83198112 -1.03282253]\n",
            " [ 0.11240241  0.29699455 -0.46178876 -0.50759861  2.10485289]\n",
            " [-0.38997467 -0.99684508  2.81659283  1.46817749  0.08754799]\n",
            " [-1.22332016 -0.68948351  1.28013043  0.10940051  1.38416994]]\n"
          ],
          "name": "stdout"
        }
      ]
    },
    {
      "metadata": {
        "id": "eR1zQM8-lASR",
        "colab_type": "code",
        "outputId": "b4095115-180b-461a-9254-7a5255521596",
        "colab": {
          "base_uri": "https://localhost:8080/",
          "height": 274
        }
      },
      "cell_type": "code",
      "source": [
        "C=np.ones((6,5))\n",
        "print(C)\n",
        "\n",
        "y=[]\n",
        "y=list(map(lambda var: var*2,C))\n",
        "print(y)\n",
        "\n",
        "z=[]\n",
        "z=np.matrix(list(map(lambda var: var*2,C)))\n",
        "print(z)"
      ],
      "execution_count": 16,
      "outputs": [
        {
          "output_type": "stream",
          "text": [
            "[[1. 1. 1. 1. 1.]\n",
            " [1. 1. 1. 1. 1.]\n",
            " [1. 1. 1. 1. 1.]\n",
            " [1. 1. 1. 1. 1.]\n",
            " [1. 1. 1. 1. 1.]\n",
            " [1. 1. 1. 1. 1.]]\n",
            "[array([2., 2., 2., 2., 2.]), array([2., 2., 2., 2., 2.]), array([2., 2., 2., 2., 2.]), array([2., 2., 2., 2., 2.]), array([2., 2., 2., 2., 2.]), array([2., 2., 2., 2., 2.])]\n",
            "[[2. 2. 2. 2. 2.]\n",
            " [2. 2. 2. 2. 2.]\n",
            " [2. 2. 2. 2. 2.]\n",
            " [2. 2. 2. 2. 2.]\n",
            " [2. 2. 2. 2. 2.]\n",
            " [2. 2. 2. 2. 2.]]\n"
          ],
          "name": "stdout"
        }
      ]
    },
    {
      "metadata": {
        "id": "sU6ZEntglhyp",
        "colab_type": "code",
        "outputId": "8d11dde4-d311-4d1b-dc50-d798aacbc016",
        "colab": {
          "base_uri": "https://localhost:8080/",
          "height": 126
        }
      },
      "cell_type": "code",
      "source": [
        "D=np.zeros((6,5))\n",
        "print(D)"
      ],
      "execution_count": 8,
      "outputs": [
        {
          "output_type": "stream",
          "text": [
            "[[0. 0. 0. 0. 0.]\n",
            " [0. 0. 0. 0. 0.]\n",
            " [0. 0. 0. 0. 0.]\n",
            " [0. 0. 0. 0. 0.]\n",
            " [0. 0. 0. 0. 0.]\n",
            " [0. 0. 0. 0. 0.]]\n"
          ],
          "name": "stdout"
        }
      ]
    },
    {
      "metadata": {
        "id": "j7D0PddomXPI",
        "colab_type": "code",
        "outputId": "98e05e09-9b21-4881-fa98-bb61c2cf18ea",
        "colab": {
          "base_uri": "https://localhost:8080/",
          "height": 35
        }
      },
      "cell_type": "code",
      "source": [
        "Max_B=B.max()\n",
        "Min_B=B.min()\n",
        "print(\"the max value of B is {} and the min value of B is {}\".format(Max_B,Min_B))\n"
      ],
      "execution_count": 9,
      "outputs": [
        {
          "output_type": "stream",
          "text": [
            "the max value of B is 2.816592832419775 and the min value of B is -1.236119863279152\n"
          ],
          "name": "stdout"
        }
      ]
    },
    {
      "metadata": {
        "id": "HKBwgjEPnE90",
        "colab_type": "code",
        "outputId": "491a05ee-3c27-4f4b-b3a0-9b8438a437e7",
        "colab": {
          "base_uri": "https://localhost:8080/",
          "height": 54
        }
      },
      "cell_type": "code",
      "source": [
        "rows,cols = np.unravel_index(B.argmax(), B.shape)\n",
        "print(\"position of max value: row={} and col={}\".format(rows,cols))\n",
        "print(B[rows,cols])"
      ],
      "execution_count": 10,
      "outputs": [
        {
          "output_type": "stream",
          "text": [
            "position of max value: row=4 and col=2\n",
            "2.816592832419775\n"
          ],
          "name": "stdout"
        }
      ]
    },
    {
      "metadata": {
        "id": "VoouEdcMCDgf",
        "colab_type": "code",
        "outputId": "18ed0890-f341-4188-8d61-ba8bf83295ca",
        "colab": {
          "base_uri": "https://localhost:8080/",
          "height": 54
        }
      },
      "cell_type": "code",
      "source": [
        "rows,cols = np.unravel_index(B.argmin(), B.shape)\n",
        "print(\"position of min value: row={} and col={}\".format(rows,cols))\n",
        "print(B[rows,cols])"
      ],
      "execution_count": 11,
      "outputs": [
        {
          "output_type": "stream",
          "text": [
            "position of min value: row=0 and col=0\n",
            "-1.236119863279152\n"
          ],
          "name": "stdout"
        }
      ]
    },
    {
      "metadata": {
        "id": "heCcf8mknWUS",
        "colab_type": "code",
        "outputId": "06f884cd-4d0d-4396-b7f0-88eddd0ba46c",
        "colab": {
          "base_uri": "https://localhost:8080/",
          "height": 72
        }
      },
      "cell_type": "code",
      "source": [
        "A=np.random.randn(3,5)\n",
        "B=np.random.randn(5,3)\n",
        "C=np.dot(A,B)\n",
        "print(C)"
      ],
      "execution_count": 12,
      "outputs": [
        {
          "output_type": "stream",
          "text": [
            "[[ 1.40817841 -0.76165624  0.81026699]\n",
            " [ 3.20706704  1.68071377  0.36713843]\n",
            " [ 0.84565869  1.88128888 -0.55801302]]\n"
          ],
          "name": "stdout"
        }
      ]
    },
    {
      "metadata": {
        "id": "bCZxWDKRnwtr",
        "colab_type": "code",
        "outputId": "fa490cb2-ab27-4466-cf0e-2fe1b21cc576",
        "colab": {
          "base_uri": "https://localhost:8080/",
          "height": 90
        }
      },
      "cell_type": "code",
      "source": [
        "D=np.eye(4)\n",
        "print(D)"
      ],
      "execution_count": 13,
      "outputs": [
        {
          "output_type": "stream",
          "text": [
            "[[1. 0. 0. 0.]\n",
            " [0. 1. 0. 0.]\n",
            " [0. 0. 1. 0.]\n",
            " [0. 0. 0. 1.]]\n"
          ],
          "name": "stdout"
        }
      ]
    }
  ]
}