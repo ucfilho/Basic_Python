{
  "nbformat": 4,
  "nbformat_minor": 0,
  "metadata": {
    "colab": {
      "name": "Basic_Python_part_002_mar_03_2019.ipynb",
      "version": "0.3.2",
      "provenance": [],
      "include_colab_link": true
    },
    "kernelspec": {
      "name": "python3",
      "display_name": "Python 3"
    }
  },
  "cells": [
    {
      "cell_type": "markdown",
      "metadata": {
        "id": "view-in-github",
        "colab_type": "text"
      },
      "source": [
        "<a href=\"https://colab.research.google.com/github/ucfilho/Basic_Python/blob/master/Basic_Python_part_002_mar_03_2019.ipynb\" target=\"_parent\"><img src=\"https://colab.research.google.com/assets/colab-badge.svg\" alt=\"Open In Colab\"/></a>"
      ]
    },
    {
      "metadata": {
        "id": "dUOvGe8c70Vb",
        "colab_type": "text"
      },
      "cell_type": "markdown",
      "source": [
        "Numpy commands"
      ]
    },
    {
      "metadata": {
        "id": "7LEh56M8jVQc",
        "colab_type": "code",
        "colab": {}
      },
      "cell_type": "code",
      "source": [
        "import numpy as np"
      ],
      "execution_count": 0,
      "outputs": []
    },
    {
      "metadata": {
        "id": "JaQxI8dqkBcd",
        "colab_type": "code",
        "outputId": "d3e52b28-e2f0-43d0-830b-ecf21df41809",
        "colab": {
          "base_uri": "https://localhost:8080/",
          "height": 54
        }
      },
      "cell_type": "code",
      "source": [
        "x=np.random.rand()\n",
        "print(x)\n",
        "y=np.random.rand(2)\n",
        "print(y)"
      ],
      "execution_count": 2,
      "outputs": [
        {
          "output_type": "stream",
          "text": [
            "0.06814773930241236\n",
            "[0.35414217 0.40399193]\n"
          ],
          "name": "stdout"
        }
      ]
    },
    {
      "metadata": {
        "id": "UB5yHAfAkGND",
        "colab_type": "code",
        "outputId": "622affba-205c-4e60-8481-93bf497c0466",
        "colab": {
          "base_uri": "https://localhost:8080/",
          "height": 108
        }
      },
      "cell_type": "code",
      "source": [
        "A=np.random.rand(5,6)\n",
        "print(A)"
      ],
      "execution_count": 3,
      "outputs": [
        {
          "output_type": "stream",
          "text": [
            "[[0.80105236 0.50100571 0.37714899 0.86714477 0.79620037 0.61462403]\n",
            " [0.65436567 0.21983225 0.05605039 0.92636998 0.44491236 0.01416276]\n",
            " [0.32494388 0.64052359 0.17810562 0.01732384 0.35475244 0.01688353]\n",
            " [0.19608138 0.34793775 0.98189732 0.60161389 0.19154861 0.4375348 ]\n",
            " [0.53101621 0.1103393  0.23450335 0.1529202  0.70293951 0.66338861]]\n"
          ],
          "name": "stdout"
        }
      ]
    },
    {
      "metadata": {
        "id": "zcEVLCV9kf7-",
        "colab_type": "code",
        "outputId": "f973464f-84d7-4085-a61a-a4d4dfdf88bd",
        "colab": {
          "base_uri": "https://localhost:8080/",
          "height": 35
        }
      },
      "cell_type": "code",
      "source": [
        "cols=A.shape[0]\n",
        "rows=A.shape[1]\n",
        "print(\"Number of lines: {} and columns: {}\".format(rows,cols))"
      ],
      "execution_count": 4,
      "outputs": [
        {
          "output_type": "stream",
          "text": [
            "Number of lines: 6 and columns: 5\n"
          ],
          "name": "stdout"
        }
      ]
    },
    {
      "metadata": {
        "id": "1KKf32s0kqZP",
        "colab_type": "code",
        "outputId": "7deeaab5-547f-479e-80fc-f9ace229809e",
        "colab": {
          "base_uri": "https://localhost:8080/",
          "height": 35
        }
      },
      "cell_type": "code",
      "source": [
        "x=np.linspace(0,10,5)\n",
        "print(x)"
      ],
      "execution_count": 5,
      "outputs": [
        {
          "output_type": "stream",
          "text": [
            "[ 0.   2.5  5.   7.5 10. ]\n"
          ],
          "name": "stdout"
        }
      ]
    },
    {
      "metadata": {
        "id": "ykslv7Jb-QXa",
        "colab_type": "code",
        "outputId": "193a2bb4-5c2b-42b0-840e-69e58cd191e0",
        "colab": {
          "base_uri": "https://localhost:8080/",
          "height": 126
        }
      },
      "cell_type": "code",
      "source": [
        "B=np.random.randn(6,5)\n",
        "print(B)"
      ],
      "execution_count": 6,
      "outputs": [
        {
          "output_type": "stream",
          "text": [
            "[[-0.86945572  1.27604342 -0.96556365  1.48159443 -0.75415707]\n",
            " [ 0.06082195  1.04387078 -1.3360802   0.83251891  1.05962487]\n",
            " [ 0.97987407 -0.15110517 -1.32950035 -2.20541896 -0.32223699]\n",
            " [-1.42911688  0.55717065 -0.28815439  0.69083038  0.90801168]\n",
            " [ 0.36222907  0.23175578  0.29465304  0.80132698 -0.84971411]\n",
            " [ 0.04168651 -0.93832303  0.81049601  0.30229785 -2.26836959]]\n"
          ],
          "name": "stdout"
        }
      ]
    },
    {
      "metadata": {
        "id": "eR1zQM8-lASR",
        "colab_type": "code",
        "outputId": "48f9f539-6325-457e-b6a4-cfd4fc4726d7",
        "colab": {
          "base_uri": "https://localhost:8080/",
          "height": 274
        }
      },
      "cell_type": "code",
      "source": [
        "C=np.ones((6,5))\n",
        "print(C)\n",
        "\n",
        "y=[]\n",
        "y=list(map(lambda var: var*2,C))\n",
        "print(y)\n",
        "\n",
        "z=[]\n",
        "z=np.matrix(list(map(lambda var: var*2,C)))\n",
        "print(z)"
      ],
      "execution_count": 7,
      "outputs": [
        {
          "output_type": "stream",
          "text": [
            "[[1. 1. 1. 1. 1.]\n",
            " [1. 1. 1. 1. 1.]\n",
            " [1. 1. 1. 1. 1.]\n",
            " [1. 1. 1. 1. 1.]\n",
            " [1. 1. 1. 1. 1.]\n",
            " [1. 1. 1. 1. 1.]]\n",
            "[array([2., 2., 2., 2., 2.]), array([2., 2., 2., 2., 2.]), array([2., 2., 2., 2., 2.]), array([2., 2., 2., 2., 2.]), array([2., 2., 2., 2., 2.]), array([2., 2., 2., 2., 2.])]\n",
            "[[2. 2. 2. 2. 2.]\n",
            " [2. 2. 2. 2. 2.]\n",
            " [2. 2. 2. 2. 2.]\n",
            " [2. 2. 2. 2. 2.]\n",
            " [2. 2. 2. 2. 2.]\n",
            " [2. 2. 2. 2. 2.]]\n"
          ],
          "name": "stdout"
        }
      ]
    },
    {
      "metadata": {
        "id": "sU6ZEntglhyp",
        "colab_type": "code",
        "outputId": "b24dbbeb-6d2e-469c-dd3a-44e3d5d695d9",
        "colab": {
          "base_uri": "https://localhost:8080/",
          "height": 126
        }
      },
      "cell_type": "code",
      "source": [
        "D=np.zeros((6,5))\n",
        "print(D)"
      ],
      "execution_count": 8,
      "outputs": [
        {
          "output_type": "stream",
          "text": [
            "[[0. 0. 0. 0. 0.]\n",
            " [0. 0. 0. 0. 0.]\n",
            " [0. 0. 0. 0. 0.]\n",
            " [0. 0. 0. 0. 0.]\n",
            " [0. 0. 0. 0. 0.]\n",
            " [0. 0. 0. 0. 0.]]\n"
          ],
          "name": "stdout"
        }
      ]
    },
    {
      "metadata": {
        "id": "j7D0PddomXPI",
        "colab_type": "code",
        "outputId": "73c56049-238d-4142-fd87-d06134a648bf",
        "colab": {
          "base_uri": "https://localhost:8080/",
          "height": 35
        }
      },
      "cell_type": "code",
      "source": [
        "Max_B=B.max()\n",
        "Min_B=B.min()\n",
        "print(\"the max value of B is {} and the min value of B is {}\".format(Max_B,Min_B))\n"
      ],
      "execution_count": 9,
      "outputs": [
        {
          "output_type": "stream",
          "text": [
            "the max value of B is 1.4815944310980789 and the min value of B is -2.2683695929978778\n"
          ],
          "name": "stdout"
        }
      ]
    },
    {
      "metadata": {
        "id": "HKBwgjEPnE90",
        "colab_type": "code",
        "outputId": "2170c496-9698-4d10-fd9d-e609c6d28753",
        "colab": {
          "base_uri": "https://localhost:8080/",
          "height": 54
        }
      },
      "cell_type": "code",
      "source": [
        "rows,cols = np.unravel_index(B.argmax(), B.shape)\n",
        "print(\"position of max value: row={} and col={}\".format(rows,cols))\n",
        "print(B[rows,cols])"
      ],
      "execution_count": 10,
      "outputs": [
        {
          "output_type": "stream",
          "text": [
            "position of max value: row=0 and col=3\n",
            "1.4815944310980789\n"
          ],
          "name": "stdout"
        }
      ]
    },
    {
      "metadata": {
        "id": "VoouEdcMCDgf",
        "colab_type": "code",
        "outputId": "6618bc87-dbdd-4970-88e5-a4d698d70353",
        "colab": {
          "base_uri": "https://localhost:8080/",
          "height": 54
        }
      },
      "cell_type": "code",
      "source": [
        "rows,cols = np.unravel_index(B.argmin(), B.shape)\n",
        "print(\"position of min value: row={} and col={}\".format(rows,cols))\n",
        "print(B[rows,cols])"
      ],
      "execution_count": 11,
      "outputs": [
        {
          "output_type": "stream",
          "text": [
            "position of min value: row=5 and col=4\n",
            "-2.2683695929978778\n"
          ],
          "name": "stdout"
        }
      ]
    },
    {
      "metadata": {
        "id": "heCcf8mknWUS",
        "colab_type": "code",
        "outputId": "db9f2788-e6be-4bb2-9d19-8b667c8e31a7",
        "colab": {
          "base_uri": "https://localhost:8080/",
          "height": 72
        }
      },
      "cell_type": "code",
      "source": [
        "A=np.random.randn(3,5)\n",
        "B=np.random.randn(5,3)\n",
        "C=np.dot(A,B)\n",
        "print(C)"
      ],
      "execution_count": 12,
      "outputs": [
        {
          "output_type": "stream",
          "text": [
            "[[-2.29150296 -2.48616831 -0.02276495]\n",
            " [ 0.54678156  1.06686631  1.13379329]\n",
            " [-3.26009182 -5.88497088 -3.84694745]]\n"
          ],
          "name": "stdout"
        }
      ]
    },
    {
      "metadata": {
        "id": "bCZxWDKRnwtr",
        "colab_type": "code",
        "outputId": "98f7f048-7b83-4659-a892-6df001bac182",
        "colab": {
          "base_uri": "https://localhost:8080/",
          "height": 90
        }
      },
      "cell_type": "code",
      "source": [
        "D=np.eye(4)\n",
        "print(D)"
      ],
      "execution_count": 13,
      "outputs": [
        {
          "output_type": "stream",
          "text": [
            "[[1. 0. 0. 0.]\n",
            " [0. 1. 0. 0.]\n",
            " [0. 0. 1. 0.]\n",
            " [0. 0. 0. 1.]]\n"
          ],
          "name": "stdout"
        }
      ]
    }
  ]
}