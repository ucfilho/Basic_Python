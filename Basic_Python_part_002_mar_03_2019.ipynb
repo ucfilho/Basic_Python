{
  "nbformat": 4,
  "nbformat_minor": 0,
  "metadata": {
    "colab": {
      "name": "Basic_Python_part_002_mar_03_2019.ipynb",
      "version": "0.3.2",
      "provenance": [],
      "include_colab_link": true
    },
    "kernelspec": {
      "name": "python3",
      "display_name": "Python 3"
    }
  },
  "cells": [
    {
      "cell_type": "markdown",
      "metadata": {
        "id": "view-in-github",
        "colab_type": "text"
      },
      "source": [
        "<a href=\"https://colab.research.google.com/github/ucfilho/Basic_Python/blob/master/Basic_Python_part_002_mar_03_2019.ipynb\" target=\"_parent\"><img src=\"https://colab.research.google.com/assets/colab-badge.svg\" alt=\"Open In Colab\"/></a>"
      ]
    },
    {
      "metadata": {
        "id": "dUOvGe8c70Vb",
        "colab_type": "text"
      },
      "cell_type": "markdown",
      "source": [
        "Numpy commands"
      ]
    },
    {
      "metadata": {
        "id": "7LEh56M8jVQc",
        "colab_type": "code",
        "colab": {}
      },
      "cell_type": "code",
      "source": [
        "import numpy as np"
      ],
      "execution_count": 0,
      "outputs": []
    },
    {
      "metadata": {
        "id": "JaQxI8dqkBcd",
        "colab_type": "code",
        "outputId": "28ac06d4-85f4-4ab3-86d3-1ab63fb3ff41",
        "colab": {
          "base_uri": "https://localhost:8080/",
          "height": 54
        }
      },
      "cell_type": "code",
      "source": [
        "x=np.random.rand()\n",
        "print(x)\n",
        "y=np.random.rand(2)\n",
        "print(y)"
      ],
      "execution_count": 2,
      "outputs": [
        {
          "output_type": "stream",
          "text": [
            "0.8009931475790486\n",
            "[0.42042719 0.8319198 ]\n"
          ],
          "name": "stdout"
        }
      ]
    },
    {
      "metadata": {
        "id": "UB5yHAfAkGND",
        "colab_type": "code",
        "outputId": "97eff482-77a0-4b65-edb2-8ea470cff437",
        "colab": {
          "base_uri": "https://localhost:8080/",
          "height": 108
        }
      },
      "cell_type": "code",
      "source": [
        "A=np.random.rand(5,6)\n",
        "print(A)"
      ],
      "execution_count": 3,
      "outputs": [
        {
          "output_type": "stream",
          "text": [
            "[[0.44832128 0.32311787 0.22698798 0.49392895 0.74538962 0.86377896]\n",
            " [0.09848535 0.04977361 0.96664155 0.28332292 0.03452667 0.08716115]\n",
            " [0.99664761 0.88895063 0.05108025 0.67984402 0.78557477 0.24198948]\n",
            " [0.82553845 0.59486884 0.38094439 0.43707594 0.64010532 0.51568199]\n",
            " [0.48441954 0.61626558 0.66727934 0.0971573  0.79844931 0.93195808]]\n"
          ],
          "name": "stdout"
        }
      ]
    },
    {
      "metadata": {
        "id": "zcEVLCV9kf7-",
        "colab_type": "code",
        "outputId": "448f69ab-7700-4673-8d69-76764a642bff",
        "colab": {
          "base_uri": "https://localhost:8080/",
          "height": 35
        }
      },
      "cell_type": "code",
      "source": [
        "cols=A.shape[0]\n",
        "rows=A.shape[1]\n",
        "print(\"Number of lines: {} and columns: {}\".format(rows,cols))"
      ],
      "execution_count": 4,
      "outputs": [
        {
          "output_type": "stream",
          "text": [
            "Number of lines: 6 and columns: 5\n"
          ],
          "name": "stdout"
        }
      ]
    },
    {
      "metadata": {
        "id": "1KKf32s0kqZP",
        "colab_type": "code",
        "outputId": "1199f04e-4f10-432a-e0b3-cf872f7d457a",
        "colab": {
          "base_uri": "https://localhost:8080/",
          "height": 35
        }
      },
      "cell_type": "code",
      "source": [
        "x=np.linspace(0,10,5)\n",
        "print(x)"
      ],
      "execution_count": 5,
      "outputs": [
        {
          "output_type": "stream",
          "text": [
            "[ 0.   2.5  5.   7.5 10. ]\n"
          ],
          "name": "stdout"
        }
      ]
    },
    {
      "metadata": {
        "id": "ykslv7Jb-QXa",
        "colab_type": "code",
        "outputId": "9773a3a7-979f-4758-805d-e985f56c3ccd",
        "colab": {
          "base_uri": "https://localhost:8080/",
          "height": 126
        }
      },
      "cell_type": "code",
      "source": [
        "B=np.random.randn(6,5)\n",
        "print(B)"
      ],
      "execution_count": 6,
      "outputs": [
        {
          "output_type": "stream",
          "text": [
            "[[-0.21075521  0.65967291 -0.41967142  1.72045016  0.95130828]\n",
            " [ 0.03542991  0.24166412 -1.18527951  0.55412833 -0.44008259]\n",
            " [-0.41096932  0.57766915  1.73691037 -0.27664591  0.08797728]\n",
            " [ 2.05073753 -1.18176658 -0.61246392 -0.35278548  1.15177416]\n",
            " [ 0.2746107   1.34397768 -0.09161807 -0.02647858 -1.08145858]\n",
            " [-0.22990572  0.25571654 -0.06923961 -0.85991896 -0.05252265]]\n"
          ],
          "name": "stdout"
        }
      ]
    },
    {
      "metadata": {
        "id": "eR1zQM8-lASR",
        "colab_type": "code",
        "outputId": "f5df1e7c-1158-4ef9-8816-47d08063b4fe",
        "colab": {
          "base_uri": "https://localhost:8080/",
          "height": 274
        }
      },
      "cell_type": "code",
      "source": [
        "C=np.ones((6,5))\n",
        "print(C)\n",
        "\n",
        "y=[]\n",
        "y=list(map(lambda var: var*2,C))\n",
        "print(y)\n",
        "\n",
        "z=[]\n",
        "z=np.matrix(list(map(lambda var: var*2,C)))\n",
        "print(z)"
      ],
      "execution_count": 7,
      "outputs": [
        {
          "output_type": "stream",
          "text": [
            "[[1. 1. 1. 1. 1.]\n",
            " [1. 1. 1. 1. 1.]\n",
            " [1. 1. 1. 1. 1.]\n",
            " [1. 1. 1. 1. 1.]\n",
            " [1. 1. 1. 1. 1.]\n",
            " [1. 1. 1. 1. 1.]]\n",
            "[array([2., 2., 2., 2., 2.]), array([2., 2., 2., 2., 2.]), array([2., 2., 2., 2., 2.]), array([2., 2., 2., 2., 2.]), array([2., 2., 2., 2., 2.]), array([2., 2., 2., 2., 2.])]\n",
            "[[2. 2. 2. 2. 2.]\n",
            " [2. 2. 2. 2. 2.]\n",
            " [2. 2. 2. 2. 2.]\n",
            " [2. 2. 2. 2. 2.]\n",
            " [2. 2. 2. 2. 2.]\n",
            " [2. 2. 2. 2. 2.]]\n"
          ],
          "name": "stdout"
        }
      ]
    },
    {
      "metadata": {
        "id": "sU6ZEntglhyp",
        "colab_type": "code",
        "outputId": "923bbaf7-f507-4082-fd36-ff28137376ba",
        "colab": {
          "base_uri": "https://localhost:8080/",
          "height": 126
        }
      },
      "cell_type": "code",
      "source": [
        "D=np.zeros((6,5))\n",
        "print(D)"
      ],
      "execution_count": 8,
      "outputs": [
        {
          "output_type": "stream",
          "text": [
            "[[0. 0. 0. 0. 0.]\n",
            " [0. 0. 0. 0. 0.]\n",
            " [0. 0. 0. 0. 0.]\n",
            " [0. 0. 0. 0. 0.]\n",
            " [0. 0. 0. 0. 0.]\n",
            " [0. 0. 0. 0. 0.]]\n"
          ],
          "name": "stdout"
        }
      ]
    },
    {
      "metadata": {
        "id": "j7D0PddomXPI",
        "colab_type": "code",
        "outputId": "a71084c6-4171-4ec8-af1c-d73084b2d789",
        "colab": {
          "base_uri": "https://localhost:8080/",
          "height": 35
        }
      },
      "cell_type": "code",
      "source": [
        "Max_B=B.max()\n",
        "Min_B=B.min()\n",
        "print(\"the max value of B is {} and the min value of B is {}\".format(Max_B,Min_B))\n"
      ],
      "execution_count": 9,
      "outputs": [
        {
          "output_type": "stream",
          "text": [
            "the max value of B is 2.0507375346634085 and the min value of B is -1.1852795119033015\n"
          ],
          "name": "stdout"
        }
      ]
    },
    {
      "metadata": {
        "id": "HKBwgjEPnE90",
        "colab_type": "code",
        "outputId": "be426243-834d-4221-f745-affffde603cf",
        "colab": {
          "base_uri": "https://localhost:8080/",
          "height": 54
        }
      },
      "cell_type": "code",
      "source": [
        "rows,cols = np.unravel_index(B.argmax(), B.shape)\n",
        "print(\"position of max value: row={} and col={}\".format(rows,cols))\n",
        "print(B[rows,cols])"
      ],
      "execution_count": 10,
      "outputs": [
        {
          "output_type": "stream",
          "text": [
            "position of max value: row=3 and col=0\n",
            "2.0507375346634085\n"
          ],
          "name": "stdout"
        }
      ]
    },
    {
      "metadata": {
        "id": "VoouEdcMCDgf",
        "colab_type": "code",
        "outputId": "7168568c-ae00-4423-bd5a-fa1b97d3c730",
        "colab": {
          "base_uri": "https://localhost:8080/",
          "height": 54
        }
      },
      "cell_type": "code",
      "source": [
        "rows,cols = np.unravel_index(B.argmin(), B.shape)\n",
        "print(\"position of min value: row={} and col={}\".format(rows,cols))\n",
        "print(B[rows,cols])"
      ],
      "execution_count": 11,
      "outputs": [
        {
          "output_type": "stream",
          "text": [
            "position of min value: row=1 and col=2\n",
            "-1.1852795119033015\n"
          ],
          "name": "stdout"
        }
      ]
    },
    {
      "metadata": {
        "id": "heCcf8mknWUS",
        "colab_type": "code",
        "outputId": "8bee34a4-e6fd-4e9c-e5be-7da35dae2842",
        "colab": {
          "base_uri": "https://localhost:8080/",
          "height": 72
        }
      },
      "cell_type": "code",
      "source": [
        "A=np.random.randn(3,5)\n",
        "B=np.random.randn(5,3)\n",
        "C=np.dot(A,B)\n",
        "print(C)"
      ],
      "execution_count": 12,
      "outputs": [
        {
          "output_type": "stream",
          "text": [
            "[[ 1.57624953 -1.5244432  -0.67336194]\n",
            " [ 1.67691718 -0.05782728 -1.07162197]\n",
            " [-2.05355173  1.27332876  1.56568097]]\n"
          ],
          "name": "stdout"
        }
      ]
    },
    {
      "metadata": {
        "id": "bCZxWDKRnwtr",
        "colab_type": "code",
        "outputId": "792c2010-c924-4ee2-93cc-f4760833d9fe",
        "colab": {
          "base_uri": "https://localhost:8080/",
          "height": 90
        }
      },
      "cell_type": "code",
      "source": [
        "D=np.eye(4)\n",
        "print(D)"
      ],
      "execution_count": 13,
      "outputs": [
        {
          "output_type": "stream",
          "text": [
            "[[1. 0. 0. 0.]\n",
            " [0. 1. 0. 0.]\n",
            " [0. 0. 1. 0.]\n",
            " [0. 0. 0. 1.]]\n"
          ],
          "name": "stdout"
        }
      ]
    },
    {
      "metadata": {
        "id": "tJ-0EVaT7jyK",
        "colab_type": "code",
        "colab": {
          "base_uri": "https://localhost:8080/",
          "height": 90
        },
        "outputId": "7559f7b5-818e-4ab5-f38f-4a39fabb5b70"
      },
      "cell_type": "code",
      "source": [
        "print(D[0,0])\n",
        "print(D[0][0])\n",
        "print(D[0,1])\n",
        "print(D[0][1])"
      ],
      "execution_count": 14,
      "outputs": [
        {
          "output_type": "stream",
          "text": [
            "1.0\n",
            "1.0\n",
            "0.0\n",
            "0.0\n"
          ],
          "name": "stdout"
        }
      ]
    },
    {
      "metadata": {
        "id": "upVoV3Th8HEi",
        "colab_type": "code",
        "colab": {
          "base_uri": "https://localhost:8080/",
          "height": 72
        },
        "outputId": "e60da6c1-f82f-4c8f-fa14-1f9fc8493bc1"
      },
      "cell_type": "code",
      "source": [
        "y=np.arange(1,11)\n",
        "print(y)\n",
        "Ind=y>5\n",
        "print(Ind)\n",
        "w=y[Ind]\n",
        "print(w)"
      ],
      "execution_count": 15,
      "outputs": [
        {
          "output_type": "stream",
          "text": [
            "[ 1  2  3  4  5  6  7  8  9 10]\n",
            "[False False False False False  True  True  True  True  True]\n",
            "[ 6  7  8  9 10]\n"
          ],
          "name": "stdout"
        }
      ]
    },
    {
      "metadata": {
        "id": "w0R8TSLzGLy0",
        "colab_type": "code",
        "colab": {
          "base_uri": "https://localhost:8080/",
          "height": 35
        },
        "outputId": "6c398518-8907-4ccd-8c4d-ae1b48d15c32"
      },
      "cell_type": "code",
      "source": [
        "print(y[y>5])"
      ],
      "execution_count": 16,
      "outputs": [
        {
          "output_type": "stream",
          "text": [
            "[ 6  7  8  9 10]\n"
          ],
          "name": "stdout"
        }
      ]
    }
  ]
}