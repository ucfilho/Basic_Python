{
  "nbformat": 4,
  "nbformat_minor": 0,
  "metadata": {
    "colab": {
      "name": "Basic_Python_part_002_mar_03_2019.ipynb",
      "version": "0.3.2",
      "provenance": [],
      "include_colab_link": true
    },
    "kernelspec": {
      "name": "python3",
      "display_name": "Python 3"
    }
  },
  "cells": [
    {
      "cell_type": "markdown",
      "metadata": {
        "id": "view-in-github",
        "colab_type": "text"
      },
      "source": [
        "<a href=\"https://colab.research.google.com/github/ucfilho/Basic_Python/blob/master/Basic_Python_part_002_mar_03_2019.ipynb\" target=\"_parent\"><img src=\"https://colab.research.google.com/assets/colab-badge.svg\" alt=\"Open In Colab\"/></a>"
      ]
    },
    {
      "metadata": {
        "id": "dUOvGe8c70Vb",
        "colab_type": "text"
      },
      "cell_type": "markdown",
      "source": [
        "Numpy commands"
      ]
    },
    {
      "metadata": {
        "id": "7LEh56M8jVQc",
        "colab_type": "code",
        "colab": {}
      },
      "cell_type": "code",
      "source": [
        "import numpy as np"
      ],
      "execution_count": 0,
      "outputs": []
    },
    {
      "metadata": {
        "id": "JaQxI8dqkBcd",
        "colab_type": "code",
        "colab": {
          "base_uri": "https://localhost:8080/",
          "height": 54
        },
        "outputId": "622f2849-5554-4067-f5fb-173a4270c974"
      },
      "cell_type": "code",
      "source": [
        "x=np.random.rand()\n",
        "print(x)\n",
        "y=np.random.rand(2)\n",
        "print(y)"
      ],
      "execution_count": 2,
      "outputs": [
        {
          "output_type": "stream",
          "text": [
            "0.5683986955894915\n",
            "[0.36140426 0.53408295]\n"
          ],
          "name": "stdout"
        }
      ]
    },
    {
      "metadata": {
        "id": "UB5yHAfAkGND",
        "colab_type": "code",
        "colab": {
          "base_uri": "https://localhost:8080/",
          "height": 108
        },
        "outputId": "485a519f-e770-439f-ecac-69ea1ece4a45"
      },
      "cell_type": "code",
      "source": [
        "A=np.random.rand(5,6)\n",
        "print(A)"
      ],
      "execution_count": 3,
      "outputs": [
        {
          "output_type": "stream",
          "text": [
            "[[0.07169431 0.91149144 0.6969841  0.31056744 0.71171396 0.34267027]\n",
            " [0.56033129 0.41931908 0.23945405 0.63176301 0.75529869 0.41860781]\n",
            " [0.40904018 0.98932037 0.22261632 0.45899277 0.7584654  0.28808087]\n",
            " [0.78346734 0.56139595 0.87662698 0.21903135 0.85173956 0.50668322]\n",
            " [0.48616196 0.46999763 0.64139446 0.72492065 0.88362989 0.65762444]]\n"
          ],
          "name": "stdout"
        }
      ]
    },
    {
      "metadata": {
        "id": "zcEVLCV9kf7-",
        "colab_type": "code",
        "colab": {
          "base_uri": "https://localhost:8080/",
          "height": 35
        },
        "outputId": "0522c110-343f-48d6-e7db-edd6c47496ac"
      },
      "cell_type": "code",
      "source": [
        "cols=A.shape[0]\n",
        "rows=A.shape[1]\n",
        "print(\"Number of lines: {} and columns: {}\".format(rows,cols))"
      ],
      "execution_count": 4,
      "outputs": [
        {
          "output_type": "stream",
          "text": [
            "Number of lines: 6 and columns: 5\n"
          ],
          "name": "stdout"
        }
      ]
    },
    {
      "metadata": {
        "id": "1KKf32s0kqZP",
        "colab_type": "code",
        "colab": {
          "base_uri": "https://localhost:8080/",
          "height": 35
        },
        "outputId": "329709d5-ff1d-4ba0-8763-d8bc54539e19"
      },
      "cell_type": "code",
      "source": [
        "x=np.linspace(0,10,5)\n",
        "print(x)"
      ],
      "execution_count": 5,
      "outputs": [
        {
          "output_type": "stream",
          "text": [
            "[ 0.   2.5  5.   7.5 10. ]\n"
          ],
          "name": "stdout"
        }
      ]
    },
    {
      "metadata": {
        "id": "ykslv7Jb-QXa",
        "colab_type": "code",
        "colab": {
          "base_uri": "https://localhost:8080/",
          "height": 126
        },
        "outputId": "eadf32fd-9dc5-4214-aabd-1112c1edecba"
      },
      "cell_type": "code",
      "source": [
        "B=np.random.randn(6,5)\n",
        "print(B)"
      ],
      "execution_count": 6,
      "outputs": [
        {
          "output_type": "stream",
          "text": [
            "[[ 0.83881696  0.42956051  0.14886312  0.61186053 -0.50739329]\n",
            " [-0.28758073 -0.63408868  0.21075768 -0.58805548  0.87795688]\n",
            " [ 0.69995659  1.39441978 -1.72662123  2.21067538  2.15827795]\n",
            " [-0.45317663  0.53078019  0.08111529 -0.47378699  0.84310755]\n",
            " [ 2.00254683  0.55566248 -0.00700129 -0.88580095 -0.49992633]\n",
            " [-0.93002298 -1.28942626  0.29193278 -0.03159594 -0.29738566]]\n"
          ],
          "name": "stdout"
        }
      ]
    },
    {
      "metadata": {
        "id": "eR1zQM8-lASR",
        "colab_type": "code",
        "colab": {
          "base_uri": "https://localhost:8080/",
          "height": 126
        },
        "outputId": "d5ef3c78-02f4-4373-9cbb-979344f830fb"
      },
      "cell_type": "code",
      "source": [
        "C=np.ones((6,5))\n",
        "print(C)"
      ],
      "execution_count": 7,
      "outputs": [
        {
          "output_type": "stream",
          "text": [
            "[[1. 1. 1. 1. 1.]\n",
            " [1. 1. 1. 1. 1.]\n",
            " [1. 1. 1. 1. 1.]\n",
            " [1. 1. 1. 1. 1.]\n",
            " [1. 1. 1. 1. 1.]\n",
            " [1. 1. 1. 1. 1.]]\n"
          ],
          "name": "stdout"
        }
      ]
    },
    {
      "metadata": {
        "id": "sU6ZEntglhyp",
        "colab_type": "code",
        "colab": {
          "base_uri": "https://localhost:8080/",
          "height": 126
        },
        "outputId": "2f8618b2-a436-44cc-f143-15c7f601f2b8"
      },
      "cell_type": "code",
      "source": [
        "D=np.zeros((6,5))\n",
        "print(D)"
      ],
      "execution_count": 8,
      "outputs": [
        {
          "output_type": "stream",
          "text": [
            "[[0. 0. 0. 0. 0.]\n",
            " [0. 0. 0. 0. 0.]\n",
            " [0. 0. 0. 0. 0.]\n",
            " [0. 0. 0. 0. 0.]\n",
            " [0. 0. 0. 0. 0.]\n",
            " [0. 0. 0. 0. 0.]]\n"
          ],
          "name": "stdout"
        }
      ]
    },
    {
      "metadata": {
        "id": "j7D0PddomXPI",
        "colab_type": "code",
        "colab": {
          "base_uri": "https://localhost:8080/",
          "height": 35
        },
        "outputId": "78f724fa-9f6c-456f-df84-7a0f3423eeb8"
      },
      "cell_type": "code",
      "source": [
        "Max_B=B.max()\n",
        "Min_B=B.min()\n",
        "print(\"the max value of B is {} and the min value of B is {}\".format(Max_B,Min_B))\n"
      ],
      "execution_count": 9,
      "outputs": [
        {
          "output_type": "stream",
          "text": [
            "the max value of B is 2.2106753767090837 and the min value of B is -1.7266212337361868\n"
          ],
          "name": "stdout"
        }
      ]
    },
    {
      "metadata": {
        "id": "HKBwgjEPnE90",
        "colab_type": "code",
        "colab": {
          "base_uri": "https://localhost:8080/",
          "height": 54
        },
        "outputId": "44fd0c6c-dc2a-4cd2-a291-417b9daab5d1"
      },
      "cell_type": "code",
      "source": [
        "rows,cols = np.unravel_index(B.argmax(), B.shape)\n",
        "print(\"position of max value: row={} and col={}\".format(rows,cols))\n",
        "print(B[rows,cols])"
      ],
      "execution_count": 10,
      "outputs": [
        {
          "output_type": "stream",
          "text": [
            "position of max value: row=2 and col=3\n",
            "2.2106753767090837\n"
          ],
          "name": "stdout"
        }
      ]
    },
    {
      "metadata": {
        "id": "VoouEdcMCDgf",
        "colab_type": "code",
        "colab": {
          "base_uri": "https://localhost:8080/",
          "height": 54
        },
        "outputId": "09ca6c3b-6648-45bb-a2bb-880e117d1acf"
      },
      "cell_type": "code",
      "source": [
        "rows,cols = np.unravel_index(B.argmin(), B.shape)\n",
        "print(\"position of min value: row={} and col={}\".format(rows,cols))\n",
        "print(B[rows,cols])"
      ],
      "execution_count": 11,
      "outputs": [
        {
          "output_type": "stream",
          "text": [
            "position of min value: row=2 and col=2\n",
            "-1.7266212337361868\n"
          ],
          "name": "stdout"
        }
      ]
    },
    {
      "metadata": {
        "id": "heCcf8mknWUS",
        "colab_type": "code",
        "colab": {
          "base_uri": "https://localhost:8080/",
          "height": 72
        },
        "outputId": "57b755b0-58ed-4dfd-82b8-f0d1c70e689e"
      },
      "cell_type": "code",
      "source": [
        "A=np.random.randn(3,5)\n",
        "B=np.random.randn(5,3)\n",
        "C=np.dot(A,B)\n",
        "print(C)"
      ],
      "execution_count": 12,
      "outputs": [
        {
          "output_type": "stream",
          "text": [
            "[[ 0.05641792 -2.36756861  2.35687948]\n",
            " [ 2.04214246 -0.70148584 -2.43786757]\n",
            " [ 0.7552821  -1.65291144 -4.33261227]]\n"
          ],
          "name": "stdout"
        }
      ]
    },
    {
      "metadata": {
        "id": "bCZxWDKRnwtr",
        "colab_type": "code",
        "colab": {
          "base_uri": "https://localhost:8080/",
          "height": 90
        },
        "outputId": "cfe9c907-3472-40a7-ca22-47d8fe15c9a0"
      },
      "cell_type": "code",
      "source": [
        "D=np.eye(4)\n",
        "print(D)"
      ],
      "execution_count": 13,
      "outputs": [
        {
          "output_type": "stream",
          "text": [
            "[[1. 0. 0. 0.]\n",
            " [0. 1. 0. 0.]\n",
            " [0. 0. 1. 0.]\n",
            " [0. 0. 0. 1.]]\n"
          ],
          "name": "stdout"
        }
      ]
    }
  ]
}