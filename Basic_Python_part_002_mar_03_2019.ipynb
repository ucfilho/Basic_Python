{
  "nbformat": 4,
  "nbformat_minor": 0,
  "metadata": {
    "colab": {
      "name": "Basic_Python_part_002_mar_03_2019.ipynb",
      "version": "0.3.2",
      "provenance": [],
      "include_colab_link": true
    },
    "kernelspec": {
      "name": "python3",
      "display_name": "Python 3"
    }
  },
  "cells": [
    {
      "cell_type": "markdown",
      "metadata": {
        "id": "view-in-github",
        "colab_type": "text"
      },
      "source": [
        "<a href=\"https://colab.research.google.com/github/ucfilho/Basic_Python/blob/master/Basic_Python_part_002_mar_03_2019.ipynb\" target=\"_parent\"><img src=\"https://colab.research.google.com/assets/colab-badge.svg\" alt=\"Open In Colab\"/></a>"
      ]
    },
    {
      "metadata": {
        "id": "dUOvGe8c70Vb",
        "colab_type": "text"
      },
      "cell_type": "markdown",
      "source": [
        "Numpy commands"
      ]
    },
    {
      "metadata": {
        "id": "7LEh56M8jVQc",
        "colab_type": "code",
        "colab": {}
      },
      "cell_type": "code",
      "source": [
        "import numpy as np"
      ],
      "execution_count": 0,
      "outputs": []
    },
    {
      "metadata": {
        "id": "JaQxI8dqkBcd",
        "colab_type": "code",
        "outputId": "1ed942dd-637e-47b3-9e15-aa5ba2c4f2a4",
        "colab": {
          "base_uri": "https://localhost:8080/",
          "height": 54
        }
      },
      "cell_type": "code",
      "source": [
        "x=np.random.rand()\n",
        "print(x)\n",
        "y=np.random.rand(2)\n",
        "print(y)"
      ],
      "execution_count": 2,
      "outputs": [
        {
          "output_type": "stream",
          "text": [
            "0.6389413330562861\n",
            "[0.03887463 0.1229165 ]\n"
          ],
          "name": "stdout"
        }
      ]
    },
    {
      "metadata": {
        "id": "UB5yHAfAkGND",
        "colab_type": "code",
        "outputId": "883c9f6c-834a-4f88-da9a-0eb2cd4f4bf3",
        "colab": {
          "base_uri": "https://localhost:8080/",
          "height": 108
        }
      },
      "cell_type": "code",
      "source": [
        "A=np.random.rand(5,6)\n",
        "print(A)"
      ],
      "execution_count": 3,
      "outputs": [
        {
          "output_type": "stream",
          "text": [
            "[[0.08224072 0.43937657 0.71982188 0.42773473 0.34159771 0.85902156]\n",
            " [0.23815364 0.09813685 0.35876749 0.89589506 0.12159582 0.67407712]\n",
            " [0.77664997 0.37081166 0.78087441 0.01210133 0.58673571 0.79417398]\n",
            " [0.88167651 0.432989   0.85142223 0.06658521 0.27552161 0.86726951]\n",
            " [0.34075915 0.84300314 0.06037899 0.76756906 0.37508018 0.17461626]]\n"
          ],
          "name": "stdout"
        }
      ]
    },
    {
      "metadata": {
        "id": "zcEVLCV9kf7-",
        "colab_type": "code",
        "outputId": "70990773-9280-4dc5-854d-a3aa5d67a6b5",
        "colab": {
          "base_uri": "https://localhost:8080/",
          "height": 35
        }
      },
      "cell_type": "code",
      "source": [
        "cols=A.shape[0]\n",
        "rows=A.shape[1]\n",
        "print(\"Number of lines: {} and columns: {}\".format(rows,cols))"
      ],
      "execution_count": 4,
      "outputs": [
        {
          "output_type": "stream",
          "text": [
            "Number of lines: 6 and columns: 5\n"
          ],
          "name": "stdout"
        }
      ]
    },
    {
      "metadata": {
        "id": "1KKf32s0kqZP",
        "colab_type": "code",
        "outputId": "96c6a5ca-b3d9-4b97-87fb-a8aa3d6a38a4",
        "colab": {
          "base_uri": "https://localhost:8080/",
          "height": 35
        }
      },
      "cell_type": "code",
      "source": [
        "x=np.linspace(0,10,5)\n",
        "print(x)"
      ],
      "execution_count": 5,
      "outputs": [
        {
          "output_type": "stream",
          "text": [
            "[ 0.   2.5  5.   7.5 10. ]\n"
          ],
          "name": "stdout"
        }
      ]
    },
    {
      "metadata": {
        "id": "ykslv7Jb-QXa",
        "colab_type": "code",
        "outputId": "d7716185-f1bb-4844-ace0-3eaf20eb0ce7",
        "colab": {
          "base_uri": "https://localhost:8080/",
          "height": 126
        }
      },
      "cell_type": "code",
      "source": [
        "B=np.random.randn(6,5)\n",
        "print(B)"
      ],
      "execution_count": 6,
      "outputs": [
        {
          "output_type": "stream",
          "text": [
            "[[-0.41735542 -1.02627961 -1.04738739  1.65958315  0.37024986]\n",
            " [ 0.11996465  0.23174275  0.15387623 -2.12522524 -0.49177911]\n",
            " [ 0.873947   -1.39279299 -1.36671865  3.12405808  0.22824888]\n",
            " [ 1.20660693 -0.60746293  1.72619148 -0.2378812  -0.95693521]\n",
            " [ 0.40957344  1.09861902 -0.45359513  0.69657392  0.80332627]\n",
            " [-0.59718403 -0.50955577 -0.79670862  0.3132086  -0.53402239]]\n"
          ],
          "name": "stdout"
        }
      ]
    },
    {
      "metadata": {
        "id": "eR1zQM8-lASR",
        "colab_type": "code",
        "outputId": "42fe7c76-9aa7-4064-d42f-3d142f98ade2",
        "colab": {
          "base_uri": "https://localhost:8080/",
          "height": 274
        }
      },
      "cell_type": "code",
      "source": [
        "C=np.ones((6,5))\n",
        "print(C)\n",
        "\n",
        "y=[]\n",
        "y=list(map(lambda var: var*2,C))\n",
        "print(y)\n",
        "\n",
        "z=[]\n",
        "z=np.matrix(list(map(lambda var: var*2,C)))\n",
        "print(z)"
      ],
      "execution_count": 7,
      "outputs": [
        {
          "output_type": "stream",
          "text": [
            "[[1. 1. 1. 1. 1.]\n",
            " [1. 1. 1. 1. 1.]\n",
            " [1. 1. 1. 1. 1.]\n",
            " [1. 1. 1. 1. 1.]\n",
            " [1. 1. 1. 1. 1.]\n",
            " [1. 1. 1. 1. 1.]]\n",
            "[array([2., 2., 2., 2., 2.]), array([2., 2., 2., 2., 2.]), array([2., 2., 2., 2., 2.]), array([2., 2., 2., 2., 2.]), array([2., 2., 2., 2., 2.]), array([2., 2., 2., 2., 2.])]\n",
            "[[2. 2. 2. 2. 2.]\n",
            " [2. 2. 2. 2. 2.]\n",
            " [2. 2. 2. 2. 2.]\n",
            " [2. 2. 2. 2. 2.]\n",
            " [2. 2. 2. 2. 2.]\n",
            " [2. 2. 2. 2. 2.]]\n"
          ],
          "name": "stdout"
        }
      ]
    },
    {
      "metadata": {
        "id": "sU6ZEntglhyp",
        "colab_type": "code",
        "outputId": "0f52ffc3-a8f9-42cd-d60d-d0cf180f25e8",
        "colab": {
          "base_uri": "https://localhost:8080/",
          "height": 126
        }
      },
      "cell_type": "code",
      "source": [
        "D=np.zeros((6,5))\n",
        "print(D)"
      ],
      "execution_count": 8,
      "outputs": [
        {
          "output_type": "stream",
          "text": [
            "[[0. 0. 0. 0. 0.]\n",
            " [0. 0. 0. 0. 0.]\n",
            " [0. 0. 0. 0. 0.]\n",
            " [0. 0. 0. 0. 0.]\n",
            " [0. 0. 0. 0. 0.]\n",
            " [0. 0. 0. 0. 0.]]\n"
          ],
          "name": "stdout"
        }
      ]
    },
    {
      "metadata": {
        "id": "j7D0PddomXPI",
        "colab_type": "code",
        "outputId": "eba241e9-d7f2-4be0-9208-f69bf8e7ad5b",
        "colab": {
          "base_uri": "https://localhost:8080/",
          "height": 35
        }
      },
      "cell_type": "code",
      "source": [
        "Max_B=B.max()\n",
        "Min_B=B.min()\n",
        "print(\"the max value of B is {} and the min value of B is {}\".format(Max_B,Min_B))\n"
      ],
      "execution_count": 9,
      "outputs": [
        {
          "output_type": "stream",
          "text": [
            "the max value of B is 3.1240580834873373 and the min value of B is -2.125225238784974\n"
          ],
          "name": "stdout"
        }
      ]
    },
    {
      "metadata": {
        "id": "HKBwgjEPnE90",
        "colab_type": "code",
        "outputId": "3ae60389-dd0f-44d0-fc87-1170dec04551",
        "colab": {
          "base_uri": "https://localhost:8080/",
          "height": 54
        }
      },
      "cell_type": "code",
      "source": [
        "rows,cols = np.unravel_index(B.argmax(), B.shape)\n",
        "print(\"position of max value: row={} and col={}\".format(rows,cols))\n",
        "print(B[rows,cols])"
      ],
      "execution_count": 10,
      "outputs": [
        {
          "output_type": "stream",
          "text": [
            "position of max value: row=2 and col=3\n",
            "3.1240580834873373\n"
          ],
          "name": "stdout"
        }
      ]
    },
    {
      "metadata": {
        "id": "VoouEdcMCDgf",
        "colab_type": "code",
        "outputId": "a3075b58-a5a1-40c3-f72f-d48edde0b5cc",
        "colab": {
          "base_uri": "https://localhost:8080/",
          "height": 54
        }
      },
      "cell_type": "code",
      "source": [
        "rows,cols = np.unravel_index(B.argmin(), B.shape)\n",
        "print(\"position of min value: row={} and col={}\".format(rows,cols))\n",
        "print(B[rows,cols])"
      ],
      "execution_count": 11,
      "outputs": [
        {
          "output_type": "stream",
          "text": [
            "position of min value: row=1 and col=3\n",
            "-2.125225238784974\n"
          ],
          "name": "stdout"
        }
      ]
    },
    {
      "metadata": {
        "id": "heCcf8mknWUS",
        "colab_type": "code",
        "outputId": "34431ac1-fec7-4641-c092-ad2a22548522",
        "colab": {
          "base_uri": "https://localhost:8080/",
          "height": 72
        }
      },
      "cell_type": "code",
      "source": [
        "A=np.random.randn(3,5)\n",
        "B=np.random.randn(5,3)\n",
        "C=np.dot(A,B)\n",
        "print(C)"
      ],
      "execution_count": 12,
      "outputs": [
        {
          "output_type": "stream",
          "text": [
            "[[-3.48841638  0.88321456  0.84730135]\n",
            " [ 1.24461796  3.05395124 -0.7864049 ]\n",
            " [ 2.98083231 -1.34464695  0.54197578]]\n"
          ],
          "name": "stdout"
        }
      ]
    },
    {
      "metadata": {
        "id": "bCZxWDKRnwtr",
        "colab_type": "code",
        "outputId": "624c0ce7-166d-40b7-afff-f4085a81b842",
        "colab": {
          "base_uri": "https://localhost:8080/",
          "height": 90
        }
      },
      "cell_type": "code",
      "source": [
        "D=np.eye(4)\n",
        "print(D)"
      ],
      "execution_count": 13,
      "outputs": [
        {
          "output_type": "stream",
          "text": [
            "[[1. 0. 0. 0.]\n",
            " [0. 1. 0. 0.]\n",
            " [0. 0. 1. 0.]\n",
            " [0. 0. 0. 1.]]\n"
          ],
          "name": "stdout"
        }
      ]
    },
    {
      "metadata": {
        "id": "tJ-0EVaT7jyK",
        "colab_type": "code",
        "colab": {
          "base_uri": "https://localhost:8080/",
          "height": 90
        },
        "outputId": "a4407096-dfe3-4c2d-a134-7b8e8845f68b"
      },
      "cell_type": "code",
      "source": [
        "print(D[0,0])\n",
        "print(D[0][0])\n",
        "print(D[0,1])\n",
        "print(D[0][1])"
      ],
      "execution_count": 14,
      "outputs": [
        {
          "output_type": "stream",
          "text": [
            "1.0\n",
            "1.0\n",
            "0.0\n",
            "0.0\n"
          ],
          "name": "stdout"
        }
      ]
    },
    {
      "metadata": {
        "id": "upVoV3Th8HEi",
        "colab_type": "code",
        "colab": {
          "base_uri": "https://localhost:8080/",
          "height": 72
        },
        "outputId": "dfdeccd3-fb46-4660-aad5-baf54025d6cc"
      },
      "cell_type": "code",
      "source": [
        "y=np.arange(1,11)\n",
        "print(y)\n",
        "Ind=y>5\n",
        "print(Ind)\n",
        "w=y[Ind]\n",
        "print(w)"
      ],
      "execution_count": 15,
      "outputs": [
        {
          "output_type": "stream",
          "text": [
            "[ 1  2  3  4  5  6  7  8  9 10]\n",
            "[False False False False False  True  True  True  True  True]\n",
            "[ 6  7  8  9 10]\n"
          ],
          "name": "stdout"
        }
      ]
    }
  ]
}