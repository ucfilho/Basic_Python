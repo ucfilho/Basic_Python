{
  "nbformat": 4,
  "nbformat_minor": 0,
  "metadata": {
    "colab": {
      "name": "Basic_Python_part_003_mar_04_2019.ipynb",
      "version": "0.3.2",
      "provenance": [],
      "include_colab_link": true
    },
    "kernelspec": {
      "name": "python3",
      "display_name": "Python 3"
    }
  },
  "cells": [
    {
      "cell_type": "markdown",
      "metadata": {
        "id": "view-in-github",
        "colab_type": "text"
      },
      "source": [
        "<a href=\"https://colab.research.google.com/github/ucfilho/Basic_Python/blob/master/Basic_Python_part_003_mar_04_2019.ipynb\" target=\"_parent\"><img src=\"https://colab.research.google.com/assets/colab-badge.svg\" alt=\"Open In Colab\"/></a>"
      ]
    },
    {
      "metadata": {
        "id": "ACpW_UDOyZkC",
        "colab_type": "text"
      },
      "cell_type": "markdown",
      "source": [
        "# Pandas\n",
        "\n",
        " You can think of pandas as an extremely powerful version of Excel, with a lot more features.\n",
        " \n",
        " DataFrames are the workhorse of pandas and are directly inspired by the R programming language"
      ]
    },
    {
      "metadata": {
        "id": "Nmuij4I8yc0o",
        "colab_type": "code",
        "colab": {}
      },
      "cell_type": "code",
      "source": [
        "import numpy as np\n",
        "import pandas as pd"
      ],
      "execution_count": 0,
      "outputs": []
    },
    {
      "metadata": {
        "id": "eIF0asUgyk84",
        "colab_type": "code",
        "colab": {}
      },
      "cell_type": "code",
      "source": [
        "Labels = ['a','b','c']\n",
        "Data = [10,20,30]\n",
        "Array= np.array([10,20,30])\n",
        "Dict = {'a':10,'b':20,'c':30}"
      ],
      "execution_count": 0,
      "outputs": []
    },
    {
      "metadata": {
        "id": "JTgUJjy4y64_",
        "colab_type": "code",
        "colab": {
          "base_uri": "https://localhost:8080/",
          "height": 326
        },
        "outputId": "2a01dac6-c260-458f-e8b9-0a24f112e848"
      },
      "cell_type": "code",
      "source": [
        "DAT1=pd.Series(data=Data)\n",
        "print(DAT1)\n",
        "DAT2=pd.Series(data=Data,index=Labels)\n",
        "print(DAT2)\n",
        "DAT3=pd.Series(Dict)\n",
        "print(DAT3)\n",
        "DAT4 = pd.Series([1.0,2.0,3.0,4.0],index = ['a', 'b','c', 'd']) \n",
        "print(DAT4)"
      ],
      "execution_count": 3,
      "outputs": [
        {
          "output_type": "stream",
          "text": [
            "0    10\n",
            "1    20\n",
            "2    30\n",
            "dtype: int64\n",
            "a    10\n",
            "b    20\n",
            "c    30\n",
            "dtype: int64\n",
            "a    10\n",
            "b    20\n",
            "c    30\n",
            "dtype: int64\n",
            "a    1.0\n",
            "b    2.0\n",
            "c    3.0\n",
            "d    4.0\n",
            "dtype: float64\n"
          ],
          "name": "stdout"
        }
      ]
    },
    {
      "metadata": {
        "id": "_G98JIk00M7-",
        "colab_type": "code",
        "colab": {
          "base_uri": "https://localhost:8080/",
          "height": 108
        },
        "outputId": "dbf124c0-f8b0-4d33-be20-5b8feecee8fe"
      },
      "cell_type": "code",
      "source": [
        "DAT=DAT2+DAT4\n",
        "print(DAT)"
      ],
      "execution_count": 4,
      "outputs": [
        {
          "output_type": "stream",
          "text": [
            "a    11.0\n",
            "b    22.0\n",
            "c    33.0\n",
            "d     NaN\n",
            "dtype: float64\n"
          ],
          "name": "stdout"
        }
      ]
    },
    {
      "metadata": {
        "id": "humTuFQm1QMC",
        "colab_type": "code",
        "colab": {
          "base_uri": "https://localhost:8080/",
          "height": 126
        },
        "outputId": "1af366da-c0aa-433e-d221-6ef3df77beea"
      },
      "cell_type": "code",
      "source": [
        "df = pd.DataFrame(np.random.randn(5,4),index='A B C D E'.split(),columns='W X Y Z'.split())\n",
        "print(df)"
      ],
      "execution_count": 5,
      "outputs": [
        {
          "output_type": "stream",
          "text": [
            "          W         X         Y         Z\n",
            "A -0.916043 -0.527767  0.471378  0.602026\n",
            "B  0.501247  0.308260 -1.787357  0.810372\n",
            "C -1.078504 -1.002142  0.493555  1.677556\n",
            "D -0.656924  0.897359 -0.352648  0.887906\n",
            "E -1.151636 -1.172780  0.073029  1.383764\n"
          ],
          "name": "stdout"
        }
      ]
    },
    {
      "metadata": {
        "id": "Hga_cKpG12X4",
        "colab_type": "code",
        "colab": {
          "base_uri": "https://localhost:8080/",
          "height": 126
        },
        "outputId": "dc3bd304-c046-401d-be42-1ebadbb7158b"
      },
      "cell_type": "code",
      "source": [
        "df['new'] = df['W'] + df['Y']\n",
        "print(df)"
      ],
      "execution_count": 6,
      "outputs": [
        {
          "output_type": "stream",
          "text": [
            "          W         X         Y         Z       new\n",
            "A -0.916043 -0.527767  0.471378  0.602026 -0.444665\n",
            "B  0.501247  0.308260 -1.787357  0.810372 -1.286110\n",
            "C -1.078504 -1.002142  0.493555  1.677556 -0.584949\n",
            "D -0.656924  0.897359 -0.352648  0.887906 -1.009572\n",
            "E -1.151636 -1.172780  0.073029  1.383764 -1.078607\n"
          ],
          "name": "stdout"
        }
      ]
    },
    {
      "metadata": {
        "id": "SGYCVC102L9N",
        "colab_type": "code",
        "colab": {
          "base_uri": "https://localhost:8080/",
          "height": 126
        },
        "outputId": "46b7d4e3-def8-43a3-9b8a-4cb94ae5a309"
      },
      "cell_type": "code",
      "source": [
        "df_new=df.drop('W',axis=1).copy()\n",
        "print(df_new)"
      ],
      "execution_count": 7,
      "outputs": [
        {
          "output_type": "stream",
          "text": [
            "          X         Y         Z       new\n",
            "A -0.527767  0.471378  0.602026 -0.444665\n",
            "B  0.308260 -1.787357  0.810372 -1.286110\n",
            "C -1.002142  0.493555  1.677556 -0.584949\n",
            "D  0.897359 -0.352648  0.887906 -1.009572\n",
            "E -1.172780  0.073029  1.383764 -1.078607\n"
          ],
          "name": "stdout"
        }
      ]
    },
    {
      "metadata": {
        "id": "3O1QmqSz2sBZ",
        "colab_type": "code",
        "colab": {
          "base_uri": "https://localhost:8080/",
          "height": 108
        },
        "outputId": "83cd5c2d-4760-49ac-f9d3-4dbc4be6316f"
      },
      "cell_type": "code",
      "source": [
        "df_new=df.drop('E',axis=0).copy()\n",
        "print(df_new)"
      ],
      "execution_count": 8,
      "outputs": [
        {
          "output_type": "stream",
          "text": [
            "          W         X         Y         Z       new\n",
            "A -0.916043 -0.527767  0.471378  0.602026 -0.444665\n",
            "B  0.501247  0.308260 -1.787357  0.810372 -1.286110\n",
            "C -1.078504 -1.002142  0.493555  1.677556 -0.584949\n",
            "D -0.656924  0.897359 -0.352648  0.887906 -1.009572\n"
          ],
          "name": "stdout"
        }
      ]
    },
    {
      "metadata": {
        "id": "TKdU51Qk2_IW",
        "colab_type": "code",
        "colab": {
          "base_uri": "https://localhost:8080/",
          "height": 126
        },
        "outputId": "45e81111-5230-432b-89a0-3f8a5e6f1e72"
      },
      "cell_type": "code",
      "source": [
        "print(df.loc['A'])"
      ],
      "execution_count": 9,
      "outputs": [
        {
          "output_type": "stream",
          "text": [
            "W     -0.916043\n",
            "X     -0.527767\n",
            "Y      0.471378\n",
            "Z      0.602026\n",
            "new   -0.444665\n",
            "Name: A, dtype: float64\n"
          ],
          "name": "stdout"
        }
      ]
    },
    {
      "metadata": {
        "id": "n8OZM0E33FKc",
        "colab_type": "code",
        "colab": {
          "base_uri": "https://localhost:8080/",
          "height": 126
        },
        "outputId": "c3228481-feb0-49b2-9ca0-21778342d7c7"
      },
      "cell_type": "code",
      "source": [
        "print(df_new.iloc[3])"
      ],
      "execution_count": 10,
      "outputs": [
        {
          "output_type": "stream",
          "text": [
            "W     -0.656924\n",
            "X      0.897359\n",
            "Y     -0.352648\n",
            "Z      0.887906\n",
            "new   -1.009572\n",
            "Name: D, dtype: float64\n"
          ],
          "name": "stdout"
        }
      ]
    },
    {
      "metadata": {
        "id": "9mRqNXuSyXZz",
        "colab_type": "text"
      },
      "cell_type": "markdown",
      "source": [
        ""
      ]
    }
  ]
}